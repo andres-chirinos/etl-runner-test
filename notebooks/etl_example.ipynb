{
 "cells": [
  {
   "cell_type": "code",
   "execution_count": null,
   "id": "9787fb7b",
   "metadata": {},
   "outputs": [],
   "source": [
    "import papermill as pm\n",
    "import sys\n",
    "import os\n",
    "import yaml\n",
    "params = {}\n",
    "if 'url' in globals():\n",
    "    params['url'] = url\n",
    "if 'output_path' in globals():\n",
    "    params['output_path'] = output_path\n",
    "if 'selector' in globals():\n",
    "    params['selector'] = selector\n",
    "with open(params.get('output_path', 'output.txt'), 'w') as f:\n",
    "    f.write(str(params))\n",
    "print('Archivo generado:', params.get('output_path', 'output.txt'))"
   ]
  }
 ],
 "metadata": {
  "language_info": {
   "name": "python"
  }
 },
 "nbformat": 4,
 "nbformat_minor": 5
}
